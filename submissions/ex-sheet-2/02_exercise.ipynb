{
 "cells": [
  {
   "metadata": {},
   "cell_type": "markdown",
   "source": "",
   "id": "56dca0434120150b"
  },
  {
   "metadata": {},
   "cell_type": "markdown",
   "source": "",
   "id": "5aeb37ba457dcb9b"
  },
  {
   "metadata": {},
   "cell_type": "markdown",
   "source": "# Exercise 2",
   "id": "c67cdc4489b5394"
  },
  {
   "metadata": {},
   "cell_type": "markdown",
   "source": "In which data structure do the agents store the neighborhood?",
   "id": "bddfea9e7e70a108"
  },
  {
   "metadata": {},
   "cell_type": "markdown",
   "source": "The agents store their neighborhood in a list.",
   "id": "6f6c13ccafea5791"
  },
  {
   "metadata": {},
   "cell_type": "markdown",
   "source": "# Exercise 4",
   "id": "41bfa6aeb6de6c18"
  },
  {
   "metadata": {},
   "cell_type": "markdown",
   "source": [
    "Do the received_ids data structures and the neighborhood contain the\n",
    "same IDs? In which case is this the case?"
   ],
   "id": "7d308d8bc8020168"
  },
  {
   "metadata": {},
   "cell_type": "markdown",
   "source": "Given the present implementation, the received_ids and the neighborhood contain the same IDs. This is due to the fact that each agent sends its ID to each neighboring agent. Alternatively, we could remove redundant communication by having an agent send its ID only to those agent from which it did not receive an ID. But given the current implementation, sending IDs to neighboring agents is pointless anyways.",
   "id": "9c0aad207abab467"
  },
  {
   "metadata": {},
   "cell_type": "markdown",
   "source": "# Exercise 5",
   "id": "1e9edb66c16fdab4"
  },
  {
   "metadata": {},
   "cell_type": "markdown",
   "source": [
    "Have the topology agent create and distribute another topology. Log the\n",
    "number of messages and compare. How many messages are sent with which topology?"
   ],
   "id": "7ccfdd59c9b74693"
  },
  {
   "metadata": {},
   "cell_type": "markdown",
   "source": "See code",
   "id": "ebb11dc299610b4f"
  },
  {
   "metadata": {},
   "cell_type": "markdown",
   "source": "# Exercise 6",
   "id": "8156edb52ac32b34"
  },
  {
   "metadata": {},
   "cell_type": "markdown",
   "source": [
    "How would we have to change the system shown above so that all agents\n",
    "know the IDs of all other agents in the system?"
   ],
   "id": "776dcbf90d1f0a3b"
  },
  {
   "metadata": {},
   "cell_type": "markdown",
   "source": "We could change k accordingly or change the probability factor to 1 or have the agent who assumes the role of topology agent communicate all agent IDs.",
   "id": "eb8d48cd3b1abfa7"
  },
  {
   "metadata": {},
   "cell_type": "markdown",
   "source": "# Exercise 7",
   "id": "9414e113f1459967"
  },
  {
   "metadata": {},
   "cell_type": "markdown",
   "source": [
    "Imagine you want to solve the n-Queens problem using agents. Every queen\n",
    "is represented by one agent, the so-called QueenAgent. How would you characterize the\n",
    "task environment of these agents?"
   ],
   "id": "ca3a49698149b7b9"
  },
  {
   "metadata": {},
   "cell_type": "markdown",
   "source": [
    "- Observability: fully vs. partially\n",
    "- MAS: single vs. multiagent\n",
    "- Competitive vs. cooperative\n",
    "- Deterministic vs. stochastic vs. non-deterministic\n",
    "- Episodical vs. sequential\n",
    "- Static vs. dynamic\n",
    "- Discrete vs. continuous\n",
    "- Known vs. unknown"
   ],
   "id": "6492220b7ee1aa98"
  },
  {
   "metadata": {},
   "cell_type": "markdown",
   "source": [
    "QueenAgent:\n",
    "- Fully: The QueenAgent knows where on the board the other QueenAgents are placed.\n",
    "- MAS: As long as $n>1$, it is a multiagent setting. For $n<=1$, no problem exists.\n",
    "- Cooperative: The QueenAgents pursue the common goal of being placed on the board such that no QueenAgent is able to take another QueenAgent.\n",
    "- Deterministic: The consequences of a QueenAgent changing its position on the board determine the state of the environment.\n",
    "- Episodic\n",
    "- Static: The state of the environment does not change during deliberation.\n",
    "- Discrete\n",
    "- Known: The QueenAgent knows what will happen when it moves to another square, i.e., which other QueenAgent it is able to take/not take."
   ],
   "id": "98cf41e00c863f09"
  },
  {
   "metadata": {},
   "cell_type": "markdown",
   "source": "# Exercise 8",
   "id": "d68572152b091e64"
  },
  {
   "metadata": {},
   "cell_type": "markdown",
   "source": [
    "Concisely describe a possible strategy of the QueenAgent to solve the\n",
    "n-Queens problem."
   ],
   "id": "b4891d8408eb2173"
  },
  {
   "metadata": {},
   "cell_type": "markdown",
   "source": [
    "1. Place QueenAgent_n on the board in column c_n.\n",
    "2. Place QueenAgent_n+1 on the board in column c_n+1 such that it cannot be taken by QueenAgent_n. If no row exists, where this is the case, change the row of QueenAgent_n, and repeat.\n",
    "3. No solution to the problem, when all rows for QueenAgent_1 have been tried."
   ],
   "id": "a091b9e994e95627"
  }
 ],
 "metadata": {
  "kernelspec": {
   "display_name": "Python 3",
   "language": "python",
   "name": "python3"
  },
  "language_info": {
   "codemirror_mode": {
    "name": "ipython",
    "version": 2
   },
   "file_extension": ".py",
   "mimetype": "text/x-python",
   "name": "python",
   "nbconvert_exporter": "python",
   "pygments_lexer": "ipython2",
   "version": "2.7.6"
  }
 },
 "nbformat": 4,
 "nbformat_minor": 5
}
